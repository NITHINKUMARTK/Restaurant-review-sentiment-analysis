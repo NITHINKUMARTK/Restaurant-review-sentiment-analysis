{
  "nbformat": 4,
  "nbformat_minor": 0,
  "metadata": {
    "colab": {
      "name": "RESTAURANT_REVIEW_SENTIMENT_ANALYSIS.ipynb",
      "provenance": []
    },
    "kernelspec": {
      "name": "python3",
      "display_name": "Python 3"
    },
    "language_info": {
      "name": "python"
    }
  },
  "cells": [
    {
      "cell_type": "code",
      "execution_count": 15,
      "metadata": {
        "id": "LhXqJECVHnE1"
      },
      "outputs": [],
      "source": [
        "import numpy as np\n",
        "import pandas as pd\n",
        "import matplotlib.pyplot as plt\n",
        "import seaborn as sns\n"
      ]
    },
    {
      "cell_type": "code",
      "source": [
        "data = pd.read_csv(\"/content/Restaurant_Reviews.tsv\", sep = \"\\t\")\n",
        "data"
      ],
      "metadata": {
        "colab": {
          "base_uri": "https://localhost:8080/",
          "height": 423
        },
        "id": "2Lv4XGPrIl8m",
        "outputId": "1a5e090c-95c8-4e50-ca83-371d4e34844d"
      },
      "execution_count": 16,
      "outputs": [
        {
          "output_type": "execute_result",
          "data": {
            "text/plain": [
              "                                                Review  Liked\n",
              "0                             Wow... Loved this place.      1\n",
              "1                                   Crust is not good.      0\n",
              "2            Not tasty and the texture was just nasty.      0\n",
              "3    Stopped by during the late May bank holiday of...      1\n",
              "4    The selection on the menu was great and so wer...      1\n",
              "..                                                 ...    ...\n",
              "995  I think food should have flavor and texture an...      0\n",
              "996                           Appetite instantly gone.      0\n",
              "997  Overall I was not impressed and would not go b...      0\n",
              "998  The whole experience was underwhelming, and I ...      0\n",
              "999  Then, as if I hadn't wasted enough of my life ...      0\n",
              "\n",
              "[1000 rows x 2 columns]"
            ],
            "text/html": [
              "\n",
              "  <div id=\"df-9c637ede-5899-4a85-b97c-06bc927109f9\">\n",
              "    <div class=\"colab-df-container\">\n",
              "      <div>\n",
              "<style scoped>\n",
              "    .dataframe tbody tr th:only-of-type {\n",
              "        vertical-align: middle;\n",
              "    }\n",
              "\n",
              "    .dataframe tbody tr th {\n",
              "        vertical-align: top;\n",
              "    }\n",
              "\n",
              "    .dataframe thead th {\n",
              "        text-align: right;\n",
              "    }\n",
              "</style>\n",
              "<table border=\"1\" class=\"dataframe\">\n",
              "  <thead>\n",
              "    <tr style=\"text-align: right;\">\n",
              "      <th></th>\n",
              "      <th>Review</th>\n",
              "      <th>Liked</th>\n",
              "    </tr>\n",
              "  </thead>\n",
              "  <tbody>\n",
              "    <tr>\n",
              "      <th>0</th>\n",
              "      <td>Wow... Loved this place.</td>\n",
              "      <td>1</td>\n",
              "    </tr>\n",
              "    <tr>\n",
              "      <th>1</th>\n",
              "      <td>Crust is not good.</td>\n",
              "      <td>0</td>\n",
              "    </tr>\n",
              "    <tr>\n",
              "      <th>2</th>\n",
              "      <td>Not tasty and the texture was just nasty.</td>\n",
              "      <td>0</td>\n",
              "    </tr>\n",
              "    <tr>\n",
              "      <th>3</th>\n",
              "      <td>Stopped by during the late May bank holiday of...</td>\n",
              "      <td>1</td>\n",
              "    </tr>\n",
              "    <tr>\n",
              "      <th>4</th>\n",
              "      <td>The selection on the menu was great and so wer...</td>\n",
              "      <td>1</td>\n",
              "    </tr>\n",
              "    <tr>\n",
              "      <th>...</th>\n",
              "      <td>...</td>\n",
              "      <td>...</td>\n",
              "    </tr>\n",
              "    <tr>\n",
              "      <th>995</th>\n",
              "      <td>I think food should have flavor and texture an...</td>\n",
              "      <td>0</td>\n",
              "    </tr>\n",
              "    <tr>\n",
              "      <th>996</th>\n",
              "      <td>Appetite instantly gone.</td>\n",
              "      <td>0</td>\n",
              "    </tr>\n",
              "    <tr>\n",
              "      <th>997</th>\n",
              "      <td>Overall I was not impressed and would not go b...</td>\n",
              "      <td>0</td>\n",
              "    </tr>\n",
              "    <tr>\n",
              "      <th>998</th>\n",
              "      <td>The whole experience was underwhelming, and I ...</td>\n",
              "      <td>0</td>\n",
              "    </tr>\n",
              "    <tr>\n",
              "      <th>999</th>\n",
              "      <td>Then, as if I hadn't wasted enough of my life ...</td>\n",
              "      <td>0</td>\n",
              "    </tr>\n",
              "  </tbody>\n",
              "</table>\n",
              "<p>1000 rows × 2 columns</p>\n",
              "</div>\n",
              "      <button class=\"colab-df-convert\" onclick=\"convertToInteractive('df-9c637ede-5899-4a85-b97c-06bc927109f9')\"\n",
              "              title=\"Convert this dataframe to an interactive table.\"\n",
              "              style=\"display:none;\">\n",
              "        \n",
              "  <svg xmlns=\"http://www.w3.org/2000/svg\" height=\"24px\"viewBox=\"0 0 24 24\"\n",
              "       width=\"24px\">\n",
              "    <path d=\"M0 0h24v24H0V0z\" fill=\"none\"/>\n",
              "    <path d=\"M18.56 5.44l.94 2.06.94-2.06 2.06-.94-2.06-.94-.94-2.06-.94 2.06-2.06.94zm-11 1L8.5 8.5l.94-2.06 2.06-.94-2.06-.94L8.5 2.5l-.94 2.06-2.06.94zm10 10l.94 2.06.94-2.06 2.06-.94-2.06-.94-.94-2.06-.94 2.06-2.06.94z\"/><path d=\"M17.41 7.96l-1.37-1.37c-.4-.4-.92-.59-1.43-.59-.52 0-1.04.2-1.43.59L10.3 9.45l-7.72 7.72c-.78.78-.78 2.05 0 2.83L4 21.41c.39.39.9.59 1.41.59.51 0 1.02-.2 1.41-.59l7.78-7.78 2.81-2.81c.8-.78.8-2.07 0-2.86zM5.41 20L4 18.59l7.72-7.72 1.47 1.35L5.41 20z\"/>\n",
              "  </svg>\n",
              "      </button>\n",
              "      \n",
              "  <style>\n",
              "    .colab-df-container {\n",
              "      display:flex;\n",
              "      flex-wrap:wrap;\n",
              "      gap: 12px;\n",
              "    }\n",
              "\n",
              "    .colab-df-convert {\n",
              "      background-color: #E8F0FE;\n",
              "      border: none;\n",
              "      border-radius: 50%;\n",
              "      cursor: pointer;\n",
              "      display: none;\n",
              "      fill: #1967D2;\n",
              "      height: 32px;\n",
              "      padding: 0 0 0 0;\n",
              "      width: 32px;\n",
              "    }\n",
              "\n",
              "    .colab-df-convert:hover {\n",
              "      background-color: #E2EBFA;\n",
              "      box-shadow: 0px 1px 2px rgba(60, 64, 67, 0.3), 0px 1px 3px 1px rgba(60, 64, 67, 0.15);\n",
              "      fill: #174EA6;\n",
              "    }\n",
              "\n",
              "    [theme=dark] .colab-df-convert {\n",
              "      background-color: #3B4455;\n",
              "      fill: #D2E3FC;\n",
              "    }\n",
              "\n",
              "    [theme=dark] .colab-df-convert:hover {\n",
              "      background-color: #434B5C;\n",
              "      box-shadow: 0px 1px 3px 1px rgba(0, 0, 0, 0.15);\n",
              "      filter: drop-shadow(0px 1px 2px rgba(0, 0, 0, 0.3));\n",
              "      fill: #FFFFFF;\n",
              "    }\n",
              "  </style>\n",
              "\n",
              "      <script>\n",
              "        const buttonEl =\n",
              "          document.querySelector('#df-9c637ede-5899-4a85-b97c-06bc927109f9 button.colab-df-convert');\n",
              "        buttonEl.style.display =\n",
              "          google.colab.kernel.accessAllowed ? 'block' : 'none';\n",
              "\n",
              "        async function convertToInteractive(key) {\n",
              "          const element = document.querySelector('#df-9c637ede-5899-4a85-b97c-06bc927109f9');\n",
              "          const dataTable =\n",
              "            await google.colab.kernel.invokeFunction('convertToInteractive',\n",
              "                                                     [key], {});\n",
              "          if (!dataTable) return;\n",
              "\n",
              "          const docLinkHtml = 'Like what you see? Visit the ' +\n",
              "            '<a target=\"_blank\" href=https://colab.research.google.com/notebooks/data_table.ipynb>data table notebook</a>'\n",
              "            + ' to learn more about interactive tables.';\n",
              "          element.innerHTML = '';\n",
              "          dataTable['output_type'] = 'display_data';\n",
              "          await google.colab.output.renderOutput(dataTable, element);\n",
              "          const docLink = document.createElement('div');\n",
              "          docLink.innerHTML = docLinkHtml;\n",
              "          element.appendChild(docLink);\n",
              "        }\n",
              "      </script>\n",
              "    </div>\n",
              "  </div>\n",
              "  "
            ]
          },
          "metadata": {},
          "execution_count": 16
        }
      ]
    },
    {
      "cell_type": "code",
      "source": [
        "data.head()"
      ],
      "metadata": {
        "colab": {
          "base_uri": "https://localhost:8080/",
          "height": 206
        },
        "id": "JwyX5Z-qJUoS",
        "outputId": "935d4114-2bef-4235-89de-79740e96c134"
      },
      "execution_count": 17,
      "outputs": [
        {
          "output_type": "execute_result",
          "data": {
            "text/plain": [
              "                                              Review  Liked\n",
              "0                           Wow... Loved this place.      1\n",
              "1                                 Crust is not good.      0\n",
              "2          Not tasty and the texture was just nasty.      0\n",
              "3  Stopped by during the late May bank holiday of...      1\n",
              "4  The selection on the menu was great and so wer...      1"
            ],
            "text/html": [
              "\n",
              "  <div id=\"df-d73fc9c1-48c6-4340-bcfd-c29d43a4f35e\">\n",
              "    <div class=\"colab-df-container\">\n",
              "      <div>\n",
              "<style scoped>\n",
              "    .dataframe tbody tr th:only-of-type {\n",
              "        vertical-align: middle;\n",
              "    }\n",
              "\n",
              "    .dataframe tbody tr th {\n",
              "        vertical-align: top;\n",
              "    }\n",
              "\n",
              "    .dataframe thead th {\n",
              "        text-align: right;\n",
              "    }\n",
              "</style>\n",
              "<table border=\"1\" class=\"dataframe\">\n",
              "  <thead>\n",
              "    <tr style=\"text-align: right;\">\n",
              "      <th></th>\n",
              "      <th>Review</th>\n",
              "      <th>Liked</th>\n",
              "    </tr>\n",
              "  </thead>\n",
              "  <tbody>\n",
              "    <tr>\n",
              "      <th>0</th>\n",
              "      <td>Wow... Loved this place.</td>\n",
              "      <td>1</td>\n",
              "    </tr>\n",
              "    <tr>\n",
              "      <th>1</th>\n",
              "      <td>Crust is not good.</td>\n",
              "      <td>0</td>\n",
              "    </tr>\n",
              "    <tr>\n",
              "      <th>2</th>\n",
              "      <td>Not tasty and the texture was just nasty.</td>\n",
              "      <td>0</td>\n",
              "    </tr>\n",
              "    <tr>\n",
              "      <th>3</th>\n",
              "      <td>Stopped by during the late May bank holiday of...</td>\n",
              "      <td>1</td>\n",
              "    </tr>\n",
              "    <tr>\n",
              "      <th>4</th>\n",
              "      <td>The selection on the menu was great and so wer...</td>\n",
              "      <td>1</td>\n",
              "    </tr>\n",
              "  </tbody>\n",
              "</table>\n",
              "</div>\n",
              "      <button class=\"colab-df-convert\" onclick=\"convertToInteractive('df-d73fc9c1-48c6-4340-bcfd-c29d43a4f35e')\"\n",
              "              title=\"Convert this dataframe to an interactive table.\"\n",
              "              style=\"display:none;\">\n",
              "        \n",
              "  <svg xmlns=\"http://www.w3.org/2000/svg\" height=\"24px\"viewBox=\"0 0 24 24\"\n",
              "       width=\"24px\">\n",
              "    <path d=\"M0 0h24v24H0V0z\" fill=\"none\"/>\n",
              "    <path d=\"M18.56 5.44l.94 2.06.94-2.06 2.06-.94-2.06-.94-.94-2.06-.94 2.06-2.06.94zm-11 1L8.5 8.5l.94-2.06 2.06-.94-2.06-.94L8.5 2.5l-.94 2.06-2.06.94zm10 10l.94 2.06.94-2.06 2.06-.94-2.06-.94-.94-2.06-.94 2.06-2.06.94z\"/><path d=\"M17.41 7.96l-1.37-1.37c-.4-.4-.92-.59-1.43-.59-.52 0-1.04.2-1.43.59L10.3 9.45l-7.72 7.72c-.78.78-.78 2.05 0 2.83L4 21.41c.39.39.9.59 1.41.59.51 0 1.02-.2 1.41-.59l7.78-7.78 2.81-2.81c.8-.78.8-2.07 0-2.86zM5.41 20L4 18.59l7.72-7.72 1.47 1.35L5.41 20z\"/>\n",
              "  </svg>\n",
              "      </button>\n",
              "      \n",
              "  <style>\n",
              "    .colab-df-container {\n",
              "      display:flex;\n",
              "      flex-wrap:wrap;\n",
              "      gap: 12px;\n",
              "    }\n",
              "\n",
              "    .colab-df-convert {\n",
              "      background-color: #E8F0FE;\n",
              "      border: none;\n",
              "      border-radius: 50%;\n",
              "      cursor: pointer;\n",
              "      display: none;\n",
              "      fill: #1967D2;\n",
              "      height: 32px;\n",
              "      padding: 0 0 0 0;\n",
              "      width: 32px;\n",
              "    }\n",
              "\n",
              "    .colab-df-convert:hover {\n",
              "      background-color: #E2EBFA;\n",
              "      box-shadow: 0px 1px 2px rgba(60, 64, 67, 0.3), 0px 1px 3px 1px rgba(60, 64, 67, 0.15);\n",
              "      fill: #174EA6;\n",
              "    }\n",
              "\n",
              "    [theme=dark] .colab-df-convert {\n",
              "      background-color: #3B4455;\n",
              "      fill: #D2E3FC;\n",
              "    }\n",
              "\n",
              "    [theme=dark] .colab-df-convert:hover {\n",
              "      background-color: #434B5C;\n",
              "      box-shadow: 0px 1px 3px 1px rgba(0, 0, 0, 0.15);\n",
              "      filter: drop-shadow(0px 1px 2px rgba(0, 0, 0, 0.3));\n",
              "      fill: #FFFFFF;\n",
              "    }\n",
              "  </style>\n",
              "\n",
              "      <script>\n",
              "        const buttonEl =\n",
              "          document.querySelector('#df-d73fc9c1-48c6-4340-bcfd-c29d43a4f35e button.colab-df-convert');\n",
              "        buttonEl.style.display =\n",
              "          google.colab.kernel.accessAllowed ? 'block' : 'none';\n",
              "\n",
              "        async function convertToInteractive(key) {\n",
              "          const element = document.querySelector('#df-d73fc9c1-48c6-4340-bcfd-c29d43a4f35e');\n",
              "          const dataTable =\n",
              "            await google.colab.kernel.invokeFunction('convertToInteractive',\n",
              "                                                     [key], {});\n",
              "          if (!dataTable) return;\n",
              "\n",
              "          const docLinkHtml = 'Like what you see? Visit the ' +\n",
              "            '<a target=\"_blank\" href=https://colab.research.google.com/notebooks/data_table.ipynb>data table notebook</a>'\n",
              "            + ' to learn more about interactive tables.';\n",
              "          element.innerHTML = '';\n",
              "          dataTable['output_type'] = 'display_data';\n",
              "          await google.colab.output.renderOutput(dataTable, element);\n",
              "          const docLink = document.createElement('div');\n",
              "          docLink.innerHTML = docLinkHtml;\n",
              "          element.appendChild(docLink);\n",
              "        }\n",
              "      </script>\n",
              "    </div>\n",
              "  </div>\n",
              "  "
            ]
          },
          "metadata": {},
          "execution_count": 17
        }
      ]
    },
    {
      "cell_type": "code",
      "source": [
        "data.tail()"
      ],
      "metadata": {
        "colab": {
          "base_uri": "https://localhost:8080/",
          "height": 206
        },
        "id": "qjE5u7mQJ_YX",
        "outputId": "0fb26d64-ab7f-4748-8f9b-585bbf4fcde2"
      },
      "execution_count": 18,
      "outputs": [
        {
          "output_type": "execute_result",
          "data": {
            "text/plain": [
              "                                                Review  Liked\n",
              "995  I think food should have flavor and texture an...      0\n",
              "996                           Appetite instantly gone.      0\n",
              "997  Overall I was not impressed and would not go b...      0\n",
              "998  The whole experience was underwhelming, and I ...      0\n",
              "999  Then, as if I hadn't wasted enough of my life ...      0"
            ],
            "text/html": [
              "\n",
              "  <div id=\"df-542a12bb-e5d3-4b8e-a82e-315a9050b01e\">\n",
              "    <div class=\"colab-df-container\">\n",
              "      <div>\n",
              "<style scoped>\n",
              "    .dataframe tbody tr th:only-of-type {\n",
              "        vertical-align: middle;\n",
              "    }\n",
              "\n",
              "    .dataframe tbody tr th {\n",
              "        vertical-align: top;\n",
              "    }\n",
              "\n",
              "    .dataframe thead th {\n",
              "        text-align: right;\n",
              "    }\n",
              "</style>\n",
              "<table border=\"1\" class=\"dataframe\">\n",
              "  <thead>\n",
              "    <tr style=\"text-align: right;\">\n",
              "      <th></th>\n",
              "      <th>Review</th>\n",
              "      <th>Liked</th>\n",
              "    </tr>\n",
              "  </thead>\n",
              "  <tbody>\n",
              "    <tr>\n",
              "      <th>995</th>\n",
              "      <td>I think food should have flavor and texture an...</td>\n",
              "      <td>0</td>\n",
              "    </tr>\n",
              "    <tr>\n",
              "      <th>996</th>\n",
              "      <td>Appetite instantly gone.</td>\n",
              "      <td>0</td>\n",
              "    </tr>\n",
              "    <tr>\n",
              "      <th>997</th>\n",
              "      <td>Overall I was not impressed and would not go b...</td>\n",
              "      <td>0</td>\n",
              "    </tr>\n",
              "    <tr>\n",
              "      <th>998</th>\n",
              "      <td>The whole experience was underwhelming, and I ...</td>\n",
              "      <td>0</td>\n",
              "    </tr>\n",
              "    <tr>\n",
              "      <th>999</th>\n",
              "      <td>Then, as if I hadn't wasted enough of my life ...</td>\n",
              "      <td>0</td>\n",
              "    </tr>\n",
              "  </tbody>\n",
              "</table>\n",
              "</div>\n",
              "      <button class=\"colab-df-convert\" onclick=\"convertToInteractive('df-542a12bb-e5d3-4b8e-a82e-315a9050b01e')\"\n",
              "              title=\"Convert this dataframe to an interactive table.\"\n",
              "              style=\"display:none;\">\n",
              "        \n",
              "  <svg xmlns=\"http://www.w3.org/2000/svg\" height=\"24px\"viewBox=\"0 0 24 24\"\n",
              "       width=\"24px\">\n",
              "    <path d=\"M0 0h24v24H0V0z\" fill=\"none\"/>\n",
              "    <path d=\"M18.56 5.44l.94 2.06.94-2.06 2.06-.94-2.06-.94-.94-2.06-.94 2.06-2.06.94zm-11 1L8.5 8.5l.94-2.06 2.06-.94-2.06-.94L8.5 2.5l-.94 2.06-2.06.94zm10 10l.94 2.06.94-2.06 2.06-.94-2.06-.94-.94-2.06-.94 2.06-2.06.94z\"/><path d=\"M17.41 7.96l-1.37-1.37c-.4-.4-.92-.59-1.43-.59-.52 0-1.04.2-1.43.59L10.3 9.45l-7.72 7.72c-.78.78-.78 2.05 0 2.83L4 21.41c.39.39.9.59 1.41.59.51 0 1.02-.2 1.41-.59l7.78-7.78 2.81-2.81c.8-.78.8-2.07 0-2.86zM5.41 20L4 18.59l7.72-7.72 1.47 1.35L5.41 20z\"/>\n",
              "  </svg>\n",
              "      </button>\n",
              "      \n",
              "  <style>\n",
              "    .colab-df-container {\n",
              "      display:flex;\n",
              "      flex-wrap:wrap;\n",
              "      gap: 12px;\n",
              "    }\n",
              "\n",
              "    .colab-df-convert {\n",
              "      background-color: #E8F0FE;\n",
              "      border: none;\n",
              "      border-radius: 50%;\n",
              "      cursor: pointer;\n",
              "      display: none;\n",
              "      fill: #1967D2;\n",
              "      height: 32px;\n",
              "      padding: 0 0 0 0;\n",
              "      width: 32px;\n",
              "    }\n",
              "\n",
              "    .colab-df-convert:hover {\n",
              "      background-color: #E2EBFA;\n",
              "      box-shadow: 0px 1px 2px rgba(60, 64, 67, 0.3), 0px 1px 3px 1px rgba(60, 64, 67, 0.15);\n",
              "      fill: #174EA6;\n",
              "    }\n",
              "\n",
              "    [theme=dark] .colab-df-convert {\n",
              "      background-color: #3B4455;\n",
              "      fill: #D2E3FC;\n",
              "    }\n",
              "\n",
              "    [theme=dark] .colab-df-convert:hover {\n",
              "      background-color: #434B5C;\n",
              "      box-shadow: 0px 1px 3px 1px rgba(0, 0, 0, 0.15);\n",
              "      filter: drop-shadow(0px 1px 2px rgba(0, 0, 0, 0.3));\n",
              "      fill: #FFFFFF;\n",
              "    }\n",
              "  </style>\n",
              "\n",
              "      <script>\n",
              "        const buttonEl =\n",
              "          document.querySelector('#df-542a12bb-e5d3-4b8e-a82e-315a9050b01e button.colab-df-convert');\n",
              "        buttonEl.style.display =\n",
              "          google.colab.kernel.accessAllowed ? 'block' : 'none';\n",
              "\n",
              "        async function convertToInteractive(key) {\n",
              "          const element = document.querySelector('#df-542a12bb-e5d3-4b8e-a82e-315a9050b01e');\n",
              "          const dataTable =\n",
              "            await google.colab.kernel.invokeFunction('convertToInteractive',\n",
              "                                                     [key], {});\n",
              "          if (!dataTable) return;\n",
              "\n",
              "          const docLinkHtml = 'Like what you see? Visit the ' +\n",
              "            '<a target=\"_blank\" href=https://colab.research.google.com/notebooks/data_table.ipynb>data table notebook</a>'\n",
              "            + ' to learn more about interactive tables.';\n",
              "          element.innerHTML = '';\n",
              "          dataTable['output_type'] = 'display_data';\n",
              "          await google.colab.output.renderOutput(dataTable, element);\n",
              "          const docLink = document.createElement('div');\n",
              "          docLink.innerHTML = docLinkHtml;\n",
              "          element.appendChild(docLink);\n",
              "        }\n",
              "      </script>\n",
              "    </div>\n",
              "  </div>\n",
              "  "
            ]
          },
          "metadata": {},
          "execution_count": 18
        }
      ]
    },
    {
      "cell_type": "code",
      "source": [
        "data.shape"
      ],
      "metadata": {
        "colab": {
          "base_uri": "https://localhost:8080/"
        },
        "id": "1Z4OeT5XKBcA",
        "outputId": "6d0288f1-0e73-4b99-b57c-6b9591e5a627"
      },
      "execution_count": 19,
      "outputs": [
        {
          "output_type": "execute_result",
          "data": {
            "text/plain": [
              "(1000, 2)"
            ]
          },
          "metadata": {},
          "execution_count": 19
        }
      ]
    },
    {
      "cell_type": "code",
      "source": [
        "data.columns"
      ],
      "metadata": {
        "colab": {
          "base_uri": "https://localhost:8080/"
        },
        "id": "ApNU9aifKC3h",
        "outputId": "2eb5c78f-b514-4af7-befc-9dbecde6aeba"
      },
      "execution_count": 20,
      "outputs": [
        {
          "output_type": "execute_result",
          "data": {
            "text/plain": [
              "Index(['Review', 'Liked'], dtype='object')"
            ]
          },
          "metadata": {},
          "execution_count": 20
        }
      ]
    },
    {
      "cell_type": "code",
      "source": [
        "data.info()"
      ],
      "metadata": {
        "colab": {
          "base_uri": "https://localhost:8080/"
        },
        "id": "M8Zsc9rwKEj_",
        "outputId": "b7a87cc0-b45c-4c27-c9c6-cbcfa87813bc"
      },
      "execution_count": 21,
      "outputs": [
        {
          "output_type": "stream",
          "name": "stdout",
          "text": [
            "<class 'pandas.core.frame.DataFrame'>\n",
            "RangeIndex: 1000 entries, 0 to 999\n",
            "Data columns (total 2 columns):\n",
            " #   Column  Non-Null Count  Dtype \n",
            "---  ------  --------------  ----- \n",
            " 0   Review  1000 non-null   object\n",
            " 1   Liked   1000 non-null   int64 \n",
            "dtypes: int64(1), object(1)\n",
            "memory usage: 15.8+ KB\n"
          ]
        }
      ]
    },
    {
      "cell_type": "markdown",
      "source": [
        "***DATA PREPROCESSING***"
      ],
      "metadata": {
        "id": "_VTeOeQvKS7R"
      }
    },
    {
      "cell_type": "markdown",
      "source": [
        "**Cleaning the data**"
      ],
      "metadata": {
        "id": "41BgEtBALGZP"
      }
    },
    {
      "cell_type": "code",
      "source": [
        "import nltk\n",
        "import re\n",
        "nltk.download('stopwords')\n",
        "from nltk.corpus import stopwords\n",
        "from nltk.stem.porter import PorterStemmer"
      ],
      "metadata": {
        "colab": {
          "base_uri": "https://localhost:8080/"
        },
        "id": "PU4uK74beotB",
        "outputId": "9195b045-79a4-496b-b440-0adb83788f9a"
      },
      "execution_count": 22,
      "outputs": [
        {
          "output_type": "stream",
          "name": "stderr",
          "text": [
            "[nltk_data] Downloading package stopwords to /root/nltk_data...\n",
            "[nltk_data]   Package stopwords is already up-to-date!\n"
          ]
        }
      ]
    },
    {
      "cell_type": "code",
      "source": [
        "# Cleaning the reviews\n",
        "corpus = []\n",
        "for i in range(0,1000):\n",
        "\n",
        "  # Cleaning special character from the reviews\n",
        "  review = re.sub(pattern='[^a-zA-Z]',repl=' ', string=data['Review'][i])\n",
        "\n",
        "  # Converting the entire review into lower case\n",
        "  review = review.lower()\n",
        "\n",
        "  # Tokenizing the review by words\n",
        "  review_words = review.split()\n",
        "\n",
        "  # Removing the stop words\n",
        "  review_words = [word for word in review_words if not word in set(stopwords.words('english'))]\n",
        "\n",
        "  # Stemming the words\n",
        "  ps = PorterStemmer()\n",
        "  review = [ps.stem(word) for word in review_words]\n",
        "\n",
        "  # Joining the stemmed words\n",
        "  review = ' '.join(review)\n",
        "\n",
        "  # Creating a corpus\n",
        "  corpus.append(review)"
      ],
      "metadata": {
        "id": "iNJifJ7Qeuih"
      },
      "execution_count": 23,
      "outputs": []
    },
    {
      "cell_type": "code",
      "source": [
        "corpus[0:10]"
      ],
      "metadata": {
        "colab": {
          "base_uri": "https://localhost:8080/"
        },
        "id": "NcyH30srONfw",
        "outputId": "bc1ace17-80a4-4989-a9c0-b050c5d6ca4a"
      },
      "execution_count": 24,
      "outputs": [
        {
          "output_type": "execute_result",
          "data": {
            "text/plain": [
              "['wow love place',\n",
              " 'crust good',\n",
              " 'tasti textur nasti',\n",
              " 'stop late may bank holiday rick steve recommend love',\n",
              " 'select menu great price',\n",
              " 'get angri want damn pho',\n",
              " 'honeslti tast fresh',\n",
              " 'potato like rubber could tell made ahead time kept warmer',\n",
              " 'fri great',\n",
              " 'great touch']"
            ]
          },
          "metadata": {},
          "execution_count": 24
        }
      ]
    },
    {
      "cell_type": "code",
      "source": [
        "from sklearn.feature_extraction.text import CountVectorizer\n",
        "cv = CountVectorizer(max_features=1500)\n",
        "X = cv.fit_transform(corpus).toarray()\n",
        "y = data.iloc[:, 1].values"
      ],
      "metadata": {
        "id": "sgddWPuGOTP_"
      },
      "execution_count": 25,
      "outputs": []
    },
    {
      "cell_type": "markdown",
      "source": [
        "**MODEL BUILDING**"
      ],
      "metadata": {
        "id": "8raF66xOb0WD"
      }
    },
    {
      "cell_type": "markdown",
      "source": [
        "**KNN**"
      ],
      "metadata": {
        "id": "UoX5crBpe5xH"
      }
    },
    {
      "cell_type": "code",
      "source": [
        "from sklearn.model_selection import train_test_split\n",
        "X_train, X_test, y_train, y_test = train_test_split(X, y, test_size = 0.20, random_state = 0)"
      ],
      "metadata": {
        "id": "490gBNyje-Oe"
      },
      "execution_count": 26,
      "outputs": []
    },
    {
      "cell_type": "code",
      "source": [
        "from sklearn.metrics import accuracy_score,confusion_matrix,precision_score,recall_score,f1_score\n",
        "from sklearn.metrics import roc_curve,roc_auc_score,log_loss"
      ],
      "metadata": {
        "id": "iSr67NDjNkNM"
      },
      "execution_count": 27,
      "outputs": []
    },
    {
      "cell_type": "code",
      "source": [
        "from sklearn.model_selection import RandomizedSearchCV\n",
        "from sklearn.neighbors import KNeighborsClassifier\n",
        "\n"
      ],
      "metadata": {
        "id": "p5wYSYwEfXyf"
      },
      "execution_count": 28,
      "outputs": []
    },
    {
      "cell_type": "code",
      "source": [
        "#source code:https://github.com/anujvyas/Natural-Language-Processing-Projects\n",
        "best_accuracy = 0.0\n",
        "n_neighbors = 0\n",
        "for i in np.arange(1,16,1):\n",
        "  temp_classifier = KNeighborsClassifier(n_neighbors= i)\n",
        "  temp_classifier.fit(X_train, y_train)\n",
        "  temp_y_pred = temp_classifier.predict(X_test)\n",
        "  score = accuracy_score(y_test, temp_y_pred)\n",
        "  print(\"Accuracy score for K={} is: {}%\".format(round(i,1), round(score*100,2)))\n",
        "  if score>best_accuracy:\n",
        "    best_accuracy = score\n",
        "    n_neighbors = i\n",
        "print('--------------------------------------------')\n",
        "print('The best accuracy is {}% with K value as {}'.format(round(best_accuracy*100, 2), round(n_neighbors,1)))"
      ],
      "metadata": {
        "colab": {
          "base_uri": "https://localhost:8080/"
        },
        "id": "-HtINujCzfaG",
        "outputId": "7513447d-4b4f-415d-d1ac-bbc53a10df4b"
      },
      "execution_count": 29,
      "outputs": [
        {
          "output_type": "stream",
          "name": "stdout",
          "text": [
            "Accuracy score for K=1 is: 62.0%\n",
            "Accuracy score for K=2 is: 54.5%\n",
            "Accuracy score for K=3 is: 66.5%\n",
            "Accuracy score for K=4 is: 57.5%\n",
            "Accuracy score for K=5 is: 58.5%\n",
            "Accuracy score for K=6 is: 62.0%\n",
            "Accuracy score for K=7 is: 62.0%\n",
            "Accuracy score for K=8 is: 62.0%\n",
            "Accuracy score for K=9 is: 63.5%\n",
            "Accuracy score for K=10 is: 62.0%\n",
            "Accuracy score for K=11 is: 64.0%\n",
            "Accuracy score for K=12 is: 61.5%\n",
            "Accuracy score for K=13 is: 62.5%\n",
            "Accuracy score for K=14 is: 60.5%\n",
            "Accuracy score for K=15 is: 61.5%\n",
            "--------------------------------------------\n",
            "The best accuracy is 66.5% with K value as 3\n"
          ]
        }
      ]
    },
    {
      "cell_type": "code",
      "source": [
        "knn = KNeighborsClassifier(n_neighbors=3, weights='uniform', algorithm='auto', leaf_size=30, p=2, metric='minkowski', metric_params=None, n_jobs=None)\n",
        "knn.fit(X_train,y_train)"
      ],
      "metadata": {
        "colab": {
          "base_uri": "https://localhost:8080/"
        },
        "id": "V_eqUleqpiHq",
        "outputId": "a674fe9d-fe3a-44db-fc6a-8ce52c0cba68"
      },
      "execution_count": 30,
      "outputs": [
        {
          "output_type": "execute_result",
          "data": {
            "text/plain": [
              "KNeighborsClassifier(n_neighbors=3)"
            ]
          },
          "metadata": {},
          "execution_count": 30
        }
      ]
    },
    {
      "cell_type": "code",
      "source": [
        "y_pred1= knn.predict(X_test)"
      ],
      "metadata": {
        "id": "QcJf6OhcqDUv"
      },
      "execution_count": 31,
      "outputs": []
    },
    {
      "cell_type": "code",
      "source": [
        "from sklearn.metrics import accuracy_score,confusion_matrix, roc_curve,roc_auc_score,log_loss,precision_score,recall_score,f1_score\n",
        "acc1 = accuracy_score(y_test,y_pred1)\n",
        "acc1"
      ],
      "metadata": {
        "colab": {
          "base_uri": "https://localhost:8080/"
        },
        "id": "QXT1Hq8frI4l",
        "outputId": "f7ff7425-0bd5-43cb-903b-9c21baa43358"
      },
      "execution_count": 32,
      "outputs": [
        {
          "output_type": "execute_result",
          "data": {
            "text/plain": [
              "0.665"
            ]
          },
          "metadata": {},
          "execution_count": 32
        }
      ]
    },
    {
      "cell_type": "code",
      "source": [
        "confusion1 = confusion_matrix(y_test,y_pred1)\n",
        "confusion1"
      ],
      "metadata": {
        "colab": {
          "base_uri": "https://localhost:8080/"
        },
        "id": "dydQAfVzrYJU",
        "outputId": "5750aae0-5961-4e44-dc74-2c82e3d00dfe"
      },
      "execution_count": 33,
      "outputs": [
        {
          "output_type": "execute_result",
          "data": {
            "text/plain": [
              "array([[80, 17],\n",
              "       [50, 53]])"
            ]
          },
          "metadata": {},
          "execution_count": 33
        }
      ]
    },
    {
      "cell_type": "code",
      "source": [
        "import matplotlib.pyplot as plt\n",
        "import seaborn as sns\n",
        "%matplotlib inline\n",
        "\n",
        "plt.figure(figsize = (10,6))\n",
        "sns.heatmap(confusion1, annot=True, cmap=\"magma\", xticklabels=['Negative', 'Positive'], yticklabels=['Negative', 'Positive'])\n",
        "plt.xlabel('Predicted values')\n",
        "plt.ylabel('Actual values')"
      ],
      "metadata": {
        "colab": {
          "base_uri": "https://localhost:8080/",
          "height": 410
        },
        "id": "z6rer8LHs8Xk",
        "outputId": "cb58ffaf-cb0a-4979-a837-412078179686"
      },
      "execution_count": 34,
      "outputs": [
        {
          "output_type": "execute_result",
          "data": {
            "text/plain": [
              "Text(69.0, 0.5, 'Actual values')"
            ]
          },
          "metadata": {},
          "execution_count": 34
        },
        {
          "output_type": "display_data",
          "data": {
            "text/plain": [
              "<Figure size 720x432 with 2 Axes>"
            ],
            "image/png": "[encoded data removed]"
          },
          "metadata": {
            "needs_background": "light"
          }
        }
      ]
    },
    {
      "cell_type": "code",
      "source": [
        "print(\"Precision1:\",precision_score(y_test,y_pred1))\n",
        "print(\"Recall1:\",recall_score(y_test,y_pred1))\n",
        "print(\"F1 Score1:\",f1_score(y_test,y_pred1))"
      ],
      "metadata": {
        "colab": {
          "base_uri": "https://localhost:8080/"
        },
        "id": "25rI74nRtZPN",
        "outputId": "5c123e4d-7642-47ad-ac7b-fae24b8c1f90"
      },
      "execution_count": 35,
      "outputs": [
        {
          "output_type": "stream",
          "name": "stdout",
          "text": [
            "Precision1: 0.7571428571428571\n",
            "Recall1: 0.5145631067961165\n",
            "F1 Score1: 0.6127167630057803\n"
          ]
        }
      ]
    },
    {
      "cell_type": "code",
      "source": [
        "pred_prob = knn.predict_proba(X_test)\n",
        "fpr1,tpr1,thresh1 = roc_curve(y_test,pred_prob[:,1],pos_label = 1)\n",
        "auc_score1 = roc_auc_score(y_test,pred_prob[:,1])\n",
        "print(auc_score1)"
      ],
      "metadata": {
        "colab": {
          "base_uri": "https://localhost:8080/"
        },
        "id": "s8c42grmtz1x",
        "outputId": "d5b3bf9c-93c2-4609-cbad-5fbb2d74aace"
      },
      "execution_count": 36,
      "outputs": [
        {
          "output_type": "stream",
          "name": "stdout",
          "text": [
            "0.7035832249024121\n"
          ]
        }
      ]
    },
    {
      "cell_type": "code",
      "source": [
        "plt.plot(fpr1,tpr1,color = \"red\",linestyle = \"--\",label = \"KNN\")\n",
        "plt.xlabel(\"FPR\")\n",
        "plt.ylabel(\"TPR\")\n",
        "plt.title(\"ROC-AUC CURVE FOR KNN\")\n",
        "plt.legend()\n",
        "plt.show()"
      ],
      "metadata": {
        "colab": {
          "base_uri": "https://localhost:8080/",
          "height": 295
        },
        "id": "hSdxdOo-v__g",
        "outputId": "aaf75637-0345-45f2-ecdc-a2cfe099f4fb"
      },
      "execution_count": 37,
      "outputs": [
        {
          "output_type": "display_data",
          "data": {
            "text/plain": [
              "<Figure size 432x288 with 1 Axes>"
            ],
            "image/png": "[encoded data removed]"
          },
          "metadata": {
            "needs_background": "light"
          }
        }
      ]
    },
    {
      "cell_type": "code",
      "source": [
        "logloss1 = log_loss(y_test,y_pred1)\n",
        "logloss1\n",
        "                    "
      ],
      "metadata": {
        "colab": {
          "base_uri": "https://localhost:8080/"
        },
        "id": "SN9DIDQdwnMX",
        "outputId": "b7b7329b-128c-4220-92fd-87c7f2e91002"
      },
      "execution_count": 38,
      "outputs": [
        {
          "output_type": "execute_result",
          "data": {
            "text/plain": [
              "11.570558058076644"
            ]
          },
          "metadata": {},
          "execution_count": 38
        }
      ]
    },
    {
      "cell_type": "markdown",
      "source": [
        "**NAIVE-BAYES**"
      ],
      "metadata": {
        "id": "aKlJuZt6xDzp"
      }
    },
    {
      "cell_type": "code",
      "source": [
        "from sklearn.naive_bayes import MultinomialNB\n",
        "naive = MultinomialNB()"
      ],
      "metadata": {
        "id": "wOdt6k_Zwygh"
      },
      "execution_count": 39,
      "outputs": []
    },
    {
      "cell_type": "code",
      "source": [
        "best_accuracy = 0.0\n",
        "alpha_val = 0.0\n",
        "for i in np.arange(0.1,1.1,0.1):\n",
        "  temp_classifier = MultinomialNB(alpha=i)\n",
        "  temp_classifier.fit(X_train, y_train)\n",
        "  temp_y_pred = temp_classifier.predict(X_test)\n",
        "  score = accuracy_score(y_test, temp_y_pred)\n",
        "  print(\"Accuracy score for alpha={} is: {}%\".format(round(i,1), round(score*100,2)))\n",
        "  if score>best_accuracy:\n",
        "    best_accuracy = score\n",
        "    alpha_val = i\n",
        "print('--------------------------------------------')\n",
        "print('The best accuracy is {}% with alpha value as {}'.format(round(best_accuracy*100, 2), round(alpha_val,1)))"
      ],
      "metadata": {
        "colab": {
          "base_uri": "https://localhost:8080/"
        },
        "id": "WHGD_wYBxmea",
        "outputId": "d2048077-d765-44a7-d2de-1c2eaae04da9"
      },
      "execution_count": 40,
      "outputs": [
        {
          "output_type": "stream",
          "name": "stdout",
          "text": [
            "Accuracy score for alpha=0.1 is: 78.0%\n",
            "Accuracy score for alpha=0.2 is: 78.5%\n",
            "Accuracy score for alpha=0.3 is: 78.0%\n",
            "Accuracy score for alpha=0.4 is: 78.0%\n",
            "Accuracy score for alpha=0.5 is: 77.5%\n",
            "Accuracy score for alpha=0.6 is: 77.5%\n",
            "Accuracy score for alpha=0.7 is: 77.5%\n",
            "Accuracy score for alpha=0.8 is: 77.0%\n",
            "Accuracy score for alpha=0.9 is: 76.5%\n",
            "Accuracy score for alpha=1.0 is: 76.5%\n",
            "--------------------------------------------\n",
            "The best accuracy is 78.5% with alpha value as 0.2\n"
          ]
        }
      ]
    },
    {
      "cell_type": "code",
      "source": [
        "naive = MultinomialNB(alpha=0.2)\n",
        "naive.fit(X_train,y_train)"
      ],
      "metadata": {
        "colab": {
          "base_uri": "https://localhost:8080/"
        },
        "id": "x0xw1FgHzOLB",
        "outputId": "1e21ae75-942d-444d-90cc-efe53eb8dc5e"
      },
      "execution_count": 41,
      "outputs": [
        {
          "output_type": "execute_result",
          "data": {
            "text/plain": [
              "MultinomialNB(alpha=0.2)"
            ]
          },
          "metadata": {},
          "execution_count": 41
        }
      ]
    },
    {
      "cell_type": "code",
      "source": [
        "y_pred2 =naive.predict(X_test)"
      ],
      "metadata": {
        "id": "WF-eFDgizy7t"
      },
      "execution_count": 42,
      "outputs": []
    },
    {
      "cell_type": "code",
      "source": [
        "acc2 = accuracy_score(y_test,y_pred2)\n",
        "acc2\n"
      ],
      "metadata": {
        "colab": {
          "base_uri": "https://localhost:8080/"
        },
        "id": "T6UDh1ab0nQJ",
        "outputId": "0f429d7e-bb5e-48e4-af0d-f43947bfe154"
      },
      "execution_count": 43,
      "outputs": [
        {
          "output_type": "execute_result",
          "data": {
            "text/plain": [
              "0.785"
            ]
          },
          "metadata": {},
          "execution_count": 43
        }
      ]
    },
    {
      "cell_type": "code",
      "source": [
        "confusion2 = confusion_matrix(y_test,y_pred2)\n",
        "confusion2"
      ],
      "metadata": {
        "colab": {
          "base_uri": "https://localhost:8080/"
        },
        "id": "BPbiyMte0628",
        "outputId": "02d7ea88-2c4e-4992-8cae-417d74201f88"
      },
      "execution_count": 44,
      "outputs": [
        {
          "output_type": "execute_result",
          "data": {
            "text/plain": [
              "array([[73, 24],\n",
              "       [19, 84]])"
            ]
          },
          "metadata": {},
          "execution_count": 44
        }
      ]
    },
    {
      "cell_type": "code",
      "source": [
        "import matplotlib.pyplot as plt\n",
        "import seaborn as sns\n",
        "%matplotlib inline\n",
        "\n",
        "plt.figure(figsize = (10,6))\n",
        "sns.heatmap(confusion2, annot=True, cmap=\"magma\", xticklabels=['Negative', 'Positive'], yticklabels=['Negative', 'Positive'])\n",
        "plt.xlabel('Predicted values')\n",
        "plt.ylabel('Actual values')"
      ],
      "metadata": {
        "colab": {
          "base_uri": "https://localhost:8080/",
          "height": 406
        },
        "id": "Ltz3sbYf1Njs",
        "outputId": "a0b019f9-54f7-4676-dc33-b5b538137e20"
      },
      "execution_count": 45,
      "outputs": [
        {
          "output_type": "execute_result",
          "data": {
            "text/plain": [
              "Text(69.0, 0.5, 'Actual values')"
            ]
          },
          "metadata": {},
          "execution_count": 45
        },
        {
          "output_type": "display_data",
          "data": {
            "text/plain": [
              "<Figure size 720x432 with 2 Axes>"
            ],
            "image/png": "[encoded data removed]"
          },
          "metadata": {
            "needs_background": "light"
          }
        }
      ]
    },
    {
      "cell_type": "code",
      "source": [
        "print(\"Precision2:\",precision_score(y_test,y_pred2))\n",
        "print(\"Recall2:\",recall_score(y_test,y_pred2))\n",
        "print(\"F1 Score2:\",f1_score(y_test,y_pred2))"
      ],
      "metadata": {
        "colab": {
          "base_uri": "https://localhost:8080/"
        },
        "id": "h6Fwy1p31QqG",
        "outputId": "9c0988f6-fbed-4cca-b97e-aace95ee8ff1"
      },
      "execution_count": 46,
      "outputs": [
        {
          "output_type": "stream",
          "name": "stdout",
          "text": [
            "Precision2: 0.7777777777777778\n",
            "Recall2: 0.8155339805825242\n",
            "F1 Score2: 0.7962085308056872\n"
          ]
        }
      ]
    },
    {
      "cell_type": "code",
      "source": [
        "pred_prob = naive.predict_proba(X_test)\n",
        "fpr2,tpr2,thresh2 = roc_curve(y_test,pred_prob[:,1],pos_label = 1)\n",
        "auc_score2 = roc_auc_score(y_test,pred_prob[:,1])\n",
        "print(auc_score2)"
      ],
      "metadata": {
        "colab": {
          "base_uri": "https://localhost:8080/"
        },
        "id": "xcOHsZ351jpH",
        "outputId": "7876d4f4-add5-4e5b-f549-88658b35437d"
      },
      "execution_count": 47,
      "outputs": [
        {
          "output_type": "stream",
          "name": "stdout",
          "text": [
            "0.861525372835552\n"
          ]
        }
      ]
    },
    {
      "cell_type": "code",
      "source": [
        "plt.plot(fpr2,tpr2,color = \"green\",linestyle = \"--\",label = \"NB\")\n",
        "plt.xlabel(\"FPR\")\n",
        "plt.ylabel(\"TPR\")\n",
        "plt.title(\"ROC-AUC CURVE FOR Naive Bayes\")\n",
        "plt.legend()\n",
        "plt.show()"
      ],
      "metadata": {
        "colab": {
          "base_uri": "https://localhost:8080/",
          "height": 295
        },
        "id": "7v-ePRXR1yZ3",
        "outputId": "a798462a-7e7d-4bf9-b4e3-60b37e6125fc"
      },
      "execution_count": 48,
      "outputs": [
        {
          "output_type": "display_data",
          "data": {
            "text/plain": [
              "<Figure size 432x288 with 1 Axes>"
            ],
            "image/png": "[encoded data removed]"
          },
          "metadata": {
            "needs_background": "light"
          }
        }
      ]
    },
    {
      "cell_type": "code",
      "source": [
        "logloss2 = log_loss(y_test,y_pred2)\n",
        "logloss2"
      ],
      "metadata": {
        "colab": {
          "base_uri": "https://localhost:8080/"
        },
        "id": "AN7Fvx342KKI",
        "outputId": "045afc97-a933-47c0-eb35-8e70735d571a"
      },
      "execution_count": 49,
      "outputs": [
        {
          "output_type": "execute_result",
          "data": {
            "text/plain": [
              "7.42593287659742"
            ]
          },
          "metadata": {},
          "execution_count": 49
        }
      ]
    },
    {
      "cell_type": "markdown",
      "source": [
        "LOGISTIC REGRESSION"
      ],
      "metadata": {
        "id": "4gFuT0oB2Tvl"
      }
    },
    {
      "cell_type": "code",
      "source": [
        "from sklearn.linear_model import LogisticRegression\n"
      ],
      "metadata": {
        "id": "ltjd_qZR2YOj"
      },
      "execution_count": 50,
      "outputs": []
    },
    {
      "cell_type": "code",
      "source": [
        "best_accuracy = 0.0\n",
        "C_val = 0.0\n",
        "for i in np.arange(0.1,1.5,0.1):\n",
        "  temp_classifier = LogisticRegression(penalty='l2',dual=False, tol=0.0001, C= i, fit_intercept=True, intercept_scaling=1, class_weight=None, random_state=None, solver='lbfgs', max_iter=100, multi_class='auto', verbose=0, warm_start=False, n_jobs=None, l1_ratio=None)\n",
        "  temp_classifier.fit(X_train, y_train)\n",
        "  temp_y_pred = temp_classifier.predict(X_test)\n",
        "  score = accuracy_score(y_test, temp_y_pred)\n",
        "  print(\"Accuracy score for C={} is: {}%\".format(round(i,1), round(score*100,2)))\n",
        "  if score>best_accuracy:\n",
        "    best_accuracy = score\n",
        "    C_val = i\n",
        "print('--------------------------------------------')\n",
        "print('The best accuracy is {}% with C value as {}'.format(round(best_accuracy*100, 2), round(C_val,1)))"
      ],
      "metadata": {
        "colab": {
          "base_uri": "https://localhost:8080/"
        },
        "id": "_ymNxzIv2YTg",
        "outputId": "97360ab6-0da8-48f3-d368-d98d54811630"
      },
      "execution_count": 51,
      "outputs": [
        {
          "output_type": "stream",
          "name": "stdout",
          "text": [
            "Accuracy score for C=0.1 is: 74.0%\n",
            "Accuracy score for C=0.2 is: 74.0%\n",
            "Accuracy score for C=0.3 is: 73.0%\n",
            "Accuracy score for C=0.4 is: 71.5%\n",
            "Accuracy score for C=0.5 is: 72.0%\n",
            "Accuracy score for C=0.6 is: 72.0%\n",
            "Accuracy score for C=0.7 is: 71.0%\n",
            "Accuracy score for C=0.8 is: 71.0%\n",
            "Accuracy score for C=0.9 is: 71.0%\n",
            "Accuracy score for C=1.0 is: 71.0%\n",
            "Accuracy score for C=1.1 is: 71.0%\n",
            "Accuracy score for C=1.2 is: 71.0%\n",
            "Accuracy score for C=1.3 is: 71.0%\n",
            "Accuracy score for C=1.4 is: 71.0%\n",
            "--------------------------------------------\n",
            "The best accuracy is 74.0% with C value as 0.1\n"
          ]
        }
      ]
    },
    {
      "cell_type": "code",
      "source": [
        "logis = LogisticRegression(penalty='l2',dual=False, tol=0.0001, C= 0.1, fit_intercept=True, intercept_scaling=1, class_weight=None, random_state=None, solver='lbfgs', max_iter=100, multi_class='auto', verbose=0, warm_start=False, n_jobs=None, l1_ratio=None)\n",
        "logis.fit(X_train,y_train)\n"
      ],
      "metadata": {
        "colab": {
          "base_uri": "https://localhost:8080/"
        },
        "id": "wOgCP-MX2YZS",
        "outputId": "d46b3677-07f2-41f9-8610-4b282d48d239"
      },
      "execution_count": 52,
      "outputs": [
        {
          "output_type": "execute_result",
          "data": {
            "text/plain": [
              "LogisticRegression(C=0.1)"
            ]
          },
          "metadata": {},
          "execution_count": 52
        }
      ]
    },
    {
      "cell_type": "code",
      "source": [
        "y_pred3 = logis.predict(X_test)"
      ],
      "metadata": {
        "id": "PXCNKpBA2YfF"
      },
      "execution_count": 53,
      "outputs": []
    },
    {
      "cell_type": "code",
      "source": [
        "acc3 = accuracy_score(y_test,y_pred3)\n",
        "acc3\n"
      ],
      "metadata": {
        "colab": {
          "base_uri": "https://localhost:8080/"
        },
        "id": "FSdleFqd2Ykc",
        "outputId": "673212bf-28d7-4689-e99e-4a5b4f8296c9"
      },
      "execution_count": 54,
      "outputs": [
        {
          "output_type": "execute_result",
          "data": {
            "text/plain": [
              "0.74"
            ]
          },
          "metadata": {},
          "execution_count": 54
        }
      ]
    },
    {
      "cell_type": "code",
      "source": [
        "confusion3= confusion_matrix(y_test,y_pred3)\n",
        "confusion3"
      ],
      "metadata": {
        "colab": {
          "base_uri": "https://localhost:8080/"
        },
        "id": "WWcbiXF92ZNi",
        "outputId": "5fb8a1c7-9cd0-4639-fcfd-ed8399b33e74"
      },
      "execution_count": 55,
      "outputs": [
        {
          "output_type": "execute_result",
          "data": {
            "text/plain": [
              "array([[86, 11],\n",
              "       [41, 62]])"
            ]
          },
          "metadata": {},
          "execution_count": 55
        }
      ]
    },
    {
      "cell_type": "code",
      "source": [
        "import matplotlib.pyplot as plt\n",
        "import seaborn as sns\n",
        "%matplotlib inline\n",
        "\n",
        "plt.figure(figsize = (10,6))\n",
        "sns.heatmap(confusion3, annot=True, cmap=\"magma\", xticklabels=['Negative', 'Positive'], yticklabels=['Negative', 'Positive'])\n",
        "plt.xlabel('Predicted values')\n",
        "plt.ylabel('Actual values')"
      ],
      "metadata": {
        "colab": {
          "base_uri": "https://localhost:8080/",
          "height": 406
        },
        "id": "Cn2BKbW12Zat",
        "outputId": "6431ae43-250c-436e-9992-8602c1e07be3"
      },
      "execution_count": 56,
      "outputs": [
        {
          "output_type": "execute_result",
          "data": {
            "text/plain": [
              "Text(69.0, 0.5, 'Actual values')"
            ]
          },
          "metadata": {},
          "execution_count": 56
        },
        {
          "output_type": "display_data",
          "data": {
            "text/plain": [
              "<Figure size 720x432 with 2 Axes>"
            ],
            "image/png": "[encoded data removed]"
          },
          "metadata": {
            "needs_background": "light"
          }
        }
      ]
    },
    {
      "cell_type": "code",
      "source": [
        "print(\"Precision3:\",precision_score(y_test,y_pred3))\n",
        "print(\"Recall3:\",recall_score(y_test,y_pred3))\n",
        "print(\"F1 Score3:\",f1_score(y_test,y_pred3))"
      ],
      "metadata": {
        "colab": {
          "base_uri": "https://localhost:8080/"
        },
        "id": "IlnyZD_I2Zfa",
        "outputId": "3f69be3f-6167-422b-f5d3-586875a377f2"
      },
      "execution_count": 57,
      "outputs": [
        {
          "output_type": "stream",
          "name": "stdout",
          "text": [
            "Precision3: 0.8493150684931506\n",
            "Recall3: 0.6019417475728155\n",
            "F1 Score3: 0.7045454545454545\n"
          ]
        }
      ]
    },
    {
      "cell_type": "code",
      "source": [
        "pred_prob = logis.predict_proba(X_test)\n",
        "fpr3,tpr3,thresh3 = roc_curve(y_test,pred_prob[:,1],pos_label = 1)\n",
        "auc_score3 = roc_auc_score(y_test,pred_prob[:,1])\n",
        "print(auc_score3)"
      ],
      "metadata": {
        "colab": {
          "base_uri": "https://localhost:8080/"
        },
        "id": "eUBJo-Bj9JzX",
        "outputId": "151ccf87-2952-442f-effa-9843bb238a2e"
      },
      "execution_count": 58,
      "outputs": [
        {
          "output_type": "stream",
          "name": "stdout",
          "text": [
            "0.8296466820138124\n"
          ]
        }
      ]
    },
    {
      "cell_type": "code",
      "source": [
        "plt.plot(fpr3,tpr3,color = \"blue\",linestyle = \"--\",label = \"LR\")\n",
        "plt.xlabel(\"FPR\")\n",
        "plt.ylabel(\"TPR\")\n",
        "plt.title(\"ROC-AUC CURVE FOR LOGISTIC REGRESSION\")\n",
        "plt.legend()\n",
        "plt.show()"
      ],
      "metadata": {
        "colab": {
          "base_uri": "https://localhost:8080/",
          "height": 295
        },
        "id": "kPFPI6BH9tPQ",
        "outputId": "12864198-03cf-490d-d2ac-3b5d23151506"
      },
      "execution_count": 59,
      "outputs": [
        {
          "output_type": "display_data",
          "data": {
            "text/plain": [
              "<Figure size 432x288 with 1 Axes>"
            ],
            "image/png": "[encoded data removed]"
          },
          "metadata": {
            "needs_background": "light"
          }
        }
      ]
    },
    {
      "cell_type": "code",
      "source": [
        "logloss3 = log_loss(y_test,y_pred3)\n",
        "logloss3"
      ],
      "metadata": {
        "colab": {
          "base_uri": "https://localhost:8080/"
        },
        "id": "PRPr8XCIEQY1",
        "outputId": "f63e9df3-1123-4ccf-d2a2-3b8df21ecd44"
      },
      "execution_count": 60,
      "outputs": [
        {
          "output_type": "execute_result",
          "data": {
            "text/plain": [
              "8.980125840535438"
            ]
          },
          "metadata": {},
          "execution_count": 60
        }
      ]
    },
    {
      "cell_type": "markdown",
      "source": [
        "SUPPORT VECTOR MACHINE"
      ],
      "metadata": {
        "id": "_Pepimkq-n7d"
      }
    },
    {
      "cell_type": "code",
      "source": [
        "from sklearn.svm import SVC\n"
      ],
      "metadata": {
        "id": "VYJEMGU1FBuf"
      },
      "execution_count": 61,
      "outputs": []
    },
    {
      "cell_type": "code",
      "source": [
        "best_accuracy = 0.0\n",
        "C_val = 0.0\n",
        "for i in np.arange(0.1,1.5,0.1):\n",
        "  temp_classifier = SVC(C = i)\n",
        "  temp_classifier.fit(X_train, y_train)\n",
        "  temp_y_pred = temp_classifier.predict(X_test)\n",
        "  score = accuracy_score(y_test, temp_y_pred)\n",
        "  print(\"Accuracy score for C={} is: {}%\".format(round(i,1), round(score*100,2)))\n",
        "  if score>best_accuracy:\n",
        "    best_accuracy = score\n",
        "    C_val = i\n",
        "print('--------------------------------------------')\n",
        "print('The best accuracy is {}% with C value as {}'.format(round(best_accuracy*100, 2), round(C_val,1)))"
      ],
      "metadata": {
        "colab": {
          "base_uri": "https://localhost:8080/"
        },
        "id": "au977oqOFPTx",
        "outputId": "9c17b504-0ea0-4f4e-bd65-3e1230641b90"
      },
      "execution_count": 62,
      "outputs": [
        {
          "output_type": "stream",
          "name": "stdout",
          "text": [
            "Accuracy score for C=0.1 is: 49.5%\n",
            "Accuracy score for C=0.2 is: 56.0%\n",
            "Accuracy score for C=0.3 is: 63.0%\n",
            "Accuracy score for C=0.4 is: 66.5%\n",
            "Accuracy score for C=0.5 is: 67.5%\n",
            "Accuracy score for C=0.6 is: 68.5%\n",
            "Accuracy score for C=0.7 is: 69.5%\n",
            "Accuracy score for C=0.8 is: 70.0%\n",
            "Accuracy score for C=0.9 is: 72.0%\n",
            "Accuracy score for C=1.0 is: 73.5%\n",
            "Accuracy score for C=1.1 is: 74.5%\n",
            "Accuracy score for C=1.2 is: 75.0%\n",
            "Accuracy score for C=1.3 is: 75.0%\n",
            "Accuracy score for C=1.4 is: 75.0%\n",
            "--------------------------------------------\n",
            "The best accuracy is 75.0% with C value as 1.2\n"
          ]
        }
      ]
    },
    {
      "cell_type": "code",
      "source": [
        "support = SVC(C = 1.2,probability=True)\n",
        "support.fit(X_train,y_train)"
      ],
      "metadata": {
        "colab": {
          "base_uri": "https://localhost:8080/"
        },
        "id": "zUEhoWEcFxR5",
        "outputId": "e32030c4-2fa6-405b-a80c-223cf0266c76"
      },
      "execution_count": 63,
      "outputs": [
        {
          "output_type": "execute_result",
          "data": {
            "text/plain": [
              "SVC(C=1.2, probability=True)"
            ]
          },
          "metadata": {},
          "execution_count": 63
        }
      ]
    },
    {
      "cell_type": "code",
      "source": [
        "y_pred4 = support.predict(X_test)"
      ],
      "metadata": {
        "id": "brAx8U2lF_qn"
      },
      "execution_count": 64,
      "outputs": []
    },
    {
      "cell_type": "code",
      "source": [
        "acc4 = accuracy_score(y_test,y_pred4)\n",
        "acc4"
      ],
      "metadata": {
        "colab": {
          "base_uri": "https://localhost:8080/"
        },
        "id": "8srZkGEYGIbz",
        "outputId": "f2886baf-181d-4280-bb93-c219f91cfea5"
      },
      "execution_count": 65,
      "outputs": [
        {
          "output_type": "execute_result",
          "data": {
            "text/plain": [
              "0.75"
            ]
          },
          "metadata": {},
          "execution_count": 65
        }
      ]
    },
    {
      "cell_type": "code",
      "source": [
        "confusion4 = confusion_matrix(y_test,y_pred4)\n",
        "confusion4"
      ],
      "metadata": {
        "colab": {
          "base_uri": "https://localhost:8080/"
        },
        "id": "gl8w0PX_GOZN",
        "outputId": "0910129b-588a-44ed-c488-f930b243bd25"
      },
      "execution_count": 66,
      "outputs": [
        {
          "output_type": "execute_result",
          "data": {
            "text/plain": [
              "array([[88,  9],\n",
              "       [41, 62]])"
            ]
          },
          "metadata": {},
          "execution_count": 66
        }
      ]
    },
    {
      "cell_type": "code",
      "source": [
        "import matplotlib.pyplot as plt\n",
        "import seaborn as sns\n",
        "%matplotlib inline\n",
        "\n",
        "plt.figure(figsize = (10,6))\n",
        "sns.heatmap(confusion4, annot=True, cmap=\"magma\", xticklabels=['Negative', 'Positive'], yticklabels=['Negative', 'Positive'])\n",
        "plt.xlabel('Predicted values')\n",
        "plt.ylabel('Actual values')"
      ],
      "metadata": {
        "colab": {
          "base_uri": "https://localhost:8080/",
          "height": 406
        },
        "id": "ZINl09KOGZgp",
        "outputId": "426f9ce9-0083-4a64-b258-4998eea4d689"
      },
      "execution_count": 67,
      "outputs": [
        {
          "output_type": "execute_result",
          "data": {
            "text/plain": [
              "Text(69.0, 0.5, 'Actual values')"
            ]
          },
          "metadata": {},
          "execution_count": 67
        },
        {
          "output_type": "display_data",
          "data": {
            "text/plain": [
              "<Figure size 720x432 with 2 Axes>"
            ],
            "image/png": "[encoded data removed]"
          },
          "metadata": {
            "needs_background": "light"
          }
        }
      ]
    },
    {
      "cell_type": "code",
      "source": [
        "print(\"Precision4:\",precision_score(y_test,y_pred4))\n",
        "print(\"Recall4:\",recall_score(y_test,y_pred4))\n",
        "print(\"F1 Score4:\",f1_score(y_test,y_pred4))"
      ],
      "metadata": {
        "colab": {
          "base_uri": "https://localhost:8080/"
        },
        "id": "glVg75B8Gim0",
        "outputId": "57ab8559-e04b-43ab-bc2f-5b8f225d3eee"
      },
      "execution_count": 68,
      "outputs": [
        {
          "output_type": "stream",
          "name": "stdout",
          "text": [
            "Precision4: 0.8732394366197183\n",
            "Recall4: 0.6019417475728155\n",
            "F1 Score4: 0.7126436781609194\n"
          ]
        }
      ]
    },
    {
      "cell_type": "code",
      "source": [
        "pred_prob = support.predict_proba(X_test)\n",
        "fpr4,tpr4,thresh4 = roc_curve(y_test,pred_prob[:,1],pos_label = 1)\n",
        "auc_score4 = roc_auc_score(y_test,pred_prob[:,1])\n",
        "print(auc_score4)"
      ],
      "metadata": {
        "colab": {
          "base_uri": "https://localhost:8080/"
        },
        "id": "DdqK6SFBGq-d",
        "outputId": "0623c2eb-b104-46be-b26c-f6a17ac64377"
      },
      "execution_count": 69,
      "outputs": [
        {
          "output_type": "stream",
          "name": "stdout",
          "text": [
            "0.8356520868781904\n"
          ]
        }
      ]
    },
    {
      "cell_type": "code",
      "source": [
        "plt.plot(fpr4,tpr4,color = \"orange\",linestyle = \"--\",label = \"SVC\")\n",
        "plt.xlabel(\"FPR\")\n",
        "plt.ylabel(\"TPR\")\n",
        "plt.title(\"ROC-AUC CURVE FOR SUPPORT VECTOR CLASSIFIER\")\n",
        "plt.legend()\n",
        "plt.show()"
      ],
      "metadata": {
        "colab": {
          "base_uri": "https://localhost:8080/",
          "height": 295
        },
        "id": "gjcJeL4jHQpy",
        "outputId": "68a4261a-4d98-42db-963e-3cf67e3f86f1"
      },
      "execution_count": 70,
      "outputs": [
        {
          "output_type": "display_data",
          "data": {
            "text/plain": [
              "<Figure size 432x288 with 1 Axes>"
            ],
            "image/png": "[encoded data removed]"
          },
          "metadata": {
            "needs_background": "light"
          }
        }
      ]
    },
    {
      "cell_type": "code",
      "source": [
        "logloss4 = log_loss(y_test,y_pred4)\n",
        "logloss4"
      ],
      "metadata": {
        "colab": {
          "base_uri": "https://localhost:8080/"
        },
        "id": "CiyfB3VwHr1s",
        "outputId": "caadd343-1ad1-4e41-8d1c-d77a66d66638"
      },
      "execution_count": 71,
      "outputs": [
        {
          "output_type": "execute_result",
          "data": {
            "text/plain": [
              "8.634730080612028"
            ]
          },
          "metadata": {},
          "execution_count": 71
        }
      ]
    },
    {
      "cell_type": "markdown",
      "source": [
        "DECISION TREE"
      ],
      "metadata": {
        "id": "nvOhDMV9H87k"
      }
    },
    {
      "cell_type": "code",
      "source": [
        "from sklearn.tree import DecisionTreeClassifier\n",
        "from sklearn.model_selection import GridSearchCV"
      ],
      "metadata": {
        "id": "tqn4IFTmIBfz"
      },
      "execution_count": 72,
      "outputs": []
    },
    {
      "cell_type": "code",
      "source": [
        "best_accuracy = 0.0\n",
        "depth = 2\n",
        "for i in np.arange(2,20,1):\n",
        "  temp_classifier = DecisionTreeClassifier(max_depth = i)\n",
        "  temp_classifier.fit(X_train, y_train)\n",
        "  temp_y_pred = temp_classifier.predict(X_test)\n",
        "  score = accuracy_score(y_test, temp_y_pred)\n",
        "  print(\"Accuracy score for depth={} is: {}%\".format(round(i,1), round(score*100,2)))\n",
        "  if score>best_accuracy:\n",
        "    best_accuracy = score\n",
        "    depth = i\n",
        "print('--------------------------------------------')\n",
        "print('The best accuracy is {}% with depth value as {}'.format(round(best_accuracy*100, 2), round(depth,1)))\n",
        "\n"
      ],
      "metadata": {
        "colab": {
          "base_uri": "https://localhost:8080/"
        },
        "id": "vB8dYSmJICeh",
        "outputId": "aa89b227-e8a5-4660-ed30-bb4b59c6483c"
      },
      "execution_count": 73,
      "outputs": [
        {
          "output_type": "stream",
          "name": "stdout",
          "text": [
            "Accuracy score for depth=2 is: 59.0%\n",
            "Accuracy score for depth=3 is: 60.0%\n",
            "Accuracy score for depth=4 is: 61.5%\n",
            "Accuracy score for depth=5 is: 63.0%\n",
            "Accuracy score for depth=6 is: 64.5%\n",
            "Accuracy score for depth=7 is: 66.0%\n",
            "Accuracy score for depth=8 is: 67.5%\n",
            "Accuracy score for depth=9 is: 68.5%\n",
            "Accuracy score for depth=10 is: 69.0%\n",
            "Accuracy score for depth=11 is: 69.0%\n",
            "Accuracy score for depth=12 is: 69.0%\n",
            "Accuracy score for depth=13 is: 70.5%\n",
            "Accuracy score for depth=14 is: 71.0%\n",
            "Accuracy score for depth=15 is: 71.5%\n",
            "Accuracy score for depth=16 is: 72.0%\n",
            "Accuracy score for depth=17 is: 71.0%\n",
            "Accuracy score for depth=18 is: 71.5%\n",
            "Accuracy score for depth=19 is: 72.0%\n",
            "--------------------------------------------\n",
            "The best accuracy is 72.0% with depth value as 16\n"
          ]
        }
      ]
    },
    {
      "cell_type": "code",
      "source": [
        "tree =  DecisionTreeClassifier(max_depth = 16)\n",
        "tree.fit(X_train,y_train)"
      ],
      "metadata": {
        "colab": {
          "base_uri": "https://localhost:8080/"
        },
        "id": "y1v7jYcPICqM",
        "outputId": "b15b087d-7c88-44e6-b7d3-b73d12358c58"
      },
      "execution_count": 74,
      "outputs": [
        {
          "output_type": "execute_result",
          "data": {
            "text/plain": [
              "DecisionTreeClassifier(max_depth=16)"
            ]
          },
          "metadata": {},
          "execution_count": 74
        }
      ]
    },
    {
      "cell_type": "code",
      "source": [
        "y_pred5 = tree.predict(X_test)"
      ],
      "metadata": {
        "id": "u8xss-c2IC2S"
      },
      "execution_count": 75,
      "outputs": []
    },
    {
      "cell_type": "code",
      "source": [
        "acc5 = accuracy_score(y_test,y_pred5)\n",
        "acc5"
      ],
      "metadata": {
        "colab": {
          "base_uri": "https://localhost:8080/"
        },
        "id": "HdraiDS0IDB1",
        "outputId": "e3430d52-e696-4d0d-d4fb-71434767cefc"
      },
      "execution_count": 76,
      "outputs": [
        {
          "output_type": "execute_result",
          "data": {
            "text/plain": [
              "0.715"
            ]
          },
          "metadata": {},
          "execution_count": 76
        }
      ]
    },
    {
      "cell_type": "code",
      "source": [
        "confusion5 = confusion_matrix(y_test,y_pred5)\n",
        "confusion5"
      ],
      "metadata": {
        "colab": {
          "base_uri": "https://localhost:8080/"
        },
        "id": "cdUOGxqLIDMx",
        "outputId": "e520fd7a-4e85-44a5-a036-91e1169ceaba"
      },
      "execution_count": 77,
      "outputs": [
        {
          "output_type": "execute_result",
          "data": {
            "text/plain": [
              "array([[93,  4],\n",
              "       [53, 50]])"
            ]
          },
          "metadata": {},
          "execution_count": 77
        }
      ]
    },
    {
      "cell_type": "code",
      "source": [
        "import matplotlib.pyplot as plt\n",
        "import seaborn as sns\n",
        "%matplotlib inline\n",
        "\n",
        "plt.figure(figsize = (10,6))\n",
        "sns.heatmap(confusion5, annot=True, cmap=\"magma\", xticklabels=['Negative', 'Positive'], yticklabels=['Negative', 'Positive'])\n",
        "plt.xlabel('Predicted values')\n",
        "plt.ylabel('Actual values')"
      ],
      "metadata": {
        "colab": {
          "base_uri": "https://localhost:8080/",
          "height": 406
        },
        "id": "ZMLQ4y_vIDYU",
        "outputId": "8ae3e700-ebd3-4a22-b422-f0896086b927"
      },
      "execution_count": 78,
      "outputs": [
        {
          "output_type": "execute_result",
          "data": {
            "text/plain": [
              "Text(69.0, 0.5, 'Actual values')"
            ]
          },
          "metadata": {},
          "execution_count": 78
        },
        {
          "output_type": "display_data",
          "data": {
            "text/plain": [
              "<Figure size 720x432 with 2 Axes>"
            ],
            "image/png": "[encoded data removed]"
          },
          "metadata": {
            "needs_background": "light"
          }
        }
      ]
    },
    {
      "cell_type": "code",
      "source": [
        "print(\"Precision5:\",precision_score(y_test,y_pred5))\n",
        "print(\"Recall5:\",recall_score(y_test,y_pred5))\n",
        "print(\"F1 Score5:\",f1_score(y_test,y_pred5))"
      ],
      "metadata": {
        "colab": {
          "base_uri": "https://localhost:8080/"
        },
        "id": "NKQ3_IiKIDkx",
        "outputId": "19d0ee84-f793-4089-af10-8110601cbf63"
      },
      "execution_count": 79,
      "outputs": [
        {
          "output_type": "stream",
          "name": "stdout",
          "text": [
            "Precision5: 0.9259259259259259\n",
            "Recall5: 0.4854368932038835\n",
            "F1 Score5: 0.6369426751592357\n"
          ]
        }
      ]
    },
    {
      "cell_type": "code",
      "source": [
        "pred_prob = tree.predict_proba(X_test)\n",
        "fpr5,tpr5,thresh5 = roc_curve(y_test,pred_prob[:,1],pos_label = 1)\n",
        "auc_score5 = roc_auc_score(y_test,pred_prob[:,1])\n",
        "print(auc_score5)"
      ],
      "metadata": {
        "colab": {
          "base_uri": "https://localhost:8080/"
        },
        "id": "FPCoCsbedZSB",
        "outputId": "73d4fb83-d6b4-4501-c670-0f8f3ddd19fa"
      },
      "execution_count": 80,
      "outputs": [
        {
          "output_type": "stream",
          "name": "stdout",
          "text": [
            "0.7229006105494945\n"
          ]
        }
      ]
    },
    {
      "cell_type": "code",
      "source": [
        "plt.plot(fpr5,tpr5,color = \"orange\",linestyle = \"--\",label = \"DT\")\n",
        "plt.xlabel(\"FPR\")\n",
        "plt.ylabel(\"TPR\")\n",
        "plt.title(\"ROC-AUC CURVE FOR DECISION TREE\")\n",
        "plt.legend()\n",
        "plt.show()"
      ],
      "metadata": {
        "colab": {
          "base_uri": "https://localhost:8080/",
          "height": 295
        },
        "id": "_i-bV7SjdjjJ",
        "outputId": "8521e26e-8d61-41d2-84dd-1fdaa5888f9b"
      },
      "execution_count": 81,
      "outputs": [
        {
          "output_type": "display_data",
          "data": {
            "text/plain": [
              "<Figure size 432x288 with 1 Axes>"
            ],
            "image/png": "[encoded data removed]"
          },
          "metadata": {
            "needs_background": "light"
          }
        }
      ]
    },
    {
      "cell_type": "code",
      "source": [
        "logloss5 = log_loss(y_test,y_pred5)\n",
        "logloss5"
      ],
      "metadata": {
        "colab": {
          "base_uri": "https://localhost:8080/"
        },
        "id": "ltq4i_-rdr-1",
        "outputId": "f60d1de9-3c7d-4d7e-ae84-d1f2d7312113"
      },
      "execution_count": 82,
      "outputs": [
        {
          "output_type": "execute_result",
          "data": {
            "text/plain": [
              "9.84356726449815"
            ]
          },
          "metadata": {},
          "execution_count": 82
        }
      ]
    },
    {
      "cell_type": "markdown",
      "source": [
        "RANDOM FOREST"
      ],
      "metadata": {
        "id": "KhazxXP3d0yo"
      }
    },
    {
      "cell_type": "code",
      "source": [
        "#source code: https://www.kaggle.com/code/arjunprasadsarkhel/simple-random-forest-with-hyperparameter-tuning/notebook\n",
        "n_estimators = [5,20,50,100]\n",
        "max_features = ['auto', 'sqrt']\n",
        "max_depth = [int(x) for x in np.linspace(10, 120, num = 12)]\n",
        "min_samples_split = [2, 6, 10]\n",
        "min_samples_leaf = [1, 3, 4]\n",
        "bootstrap = [True, False]\n",
        "\n",
        "random_grid = {'n_estimators': n_estimators,\n",
        "\n",
        "'max_features': max_features,\n",
        "\n",
        "'max_depth': max_depth,\n",
        "\n",
        "'min_samples_split': min_samples_split,\n",
        "\n",
        "'min_samples_leaf': min_samples_leaf,\n",
        "\n",
        "'bootstrap': bootstrap}"
      ],
      "metadata": {
        "id": "hZl0e1hOfHii"
      },
      "execution_count": 83,
      "outputs": []
    },
    {
      "cell_type": "code",
      "source": [
        "from sklearn.ensemble import RandomForestClassifier\n",
        "rf = RandomForestClassifier()"
      ],
      "metadata": {
        "id": "bhELHuslfYt9"
      },
      "execution_count": 84,
      "outputs": []
    },
    {
      "cell_type": "code",
      "source": [
        "from sklearn.model_selection import RandomizedSearchCV\n",
        "rf_random = RandomizedSearchCV(estimator = rf,param_distributions = random_grid,\n",
        "               n_iter = 100, cv = 5, verbose=2, random_state=35, n_jobs = -1)\n",
        "rf_random.fit(X_train, y_train)"
      ],
      "metadata": {
        "colab": {
          "base_uri": "https://localhost:8080/"
        },
        "id": "ykmyRwEkfaH6",
        "outputId": "bac7d23b-4a1d-4ada-8454-7d526ff531ca"
      },
      "execution_count": 85,
      "outputs": [
        {
          "output_type": "stream",
          "name": "stdout",
          "text": [
            "Fitting 5 folds for each of 100 candidates, totalling 500 fits\n"
          ]
        },
        {
          "output_type": "execute_result",
          "data": {
            "text/plain": [
              "RandomizedSearchCV(cv=5, estimator=RandomForestClassifier(), n_iter=100,\n",
              "                   n_jobs=-1,\n",
              "                   param_distributions={'bootstrap': [True, False],\n",
              "                                        'max_depth': [10, 20, 30, 40, 50, 60,\n",
              "                                                      70, 80, 90, 100, 110,\n",
              "                                                      120],\n",
              "                                        'max_features': ['auto', 'sqrt'],\n",
              "                                        'min_samples_leaf': [1, 3, 4],\n",
              "                                        'min_samples_split': [2, 6, 10],\n",
              "                                        'n_estimators': [5, 20, 50, 100]},\n",
              "                   random_state=35, verbose=2)"
            ]
          },
          "metadata": {},
          "execution_count": 85
        }
      ]
    },
    {
      "cell_type": "code",
      "source": [
        "print ('Random grid: ', random_grid, '\\n')\n",
        "# print the best parameters\n",
        "print ('Best Parameters: ', rf_random.best_params_, ' \\n')"
      ],
      "metadata": {
        "colab": {
          "base_uri": "https://localhost:8080/"
        },
        "id": "D-V-f_tifiWN",
        "outputId": "de88ecc9-b236-4460-a8fe-c4cc2075ec75"
      },
      "execution_count": 86,
      "outputs": [
        {
          "output_type": "stream",
          "name": "stdout",
          "text": [
            "Random grid:  {'n_estimators': [5, 20, 50, 100], 'max_features': ['auto', 'sqrt'], 'max_depth': [10, 20, 30, 40, 50, 60, 70, 80, 90, 100, 110, 120], 'min_samples_split': [2, 6, 10], 'min_samples_leaf': [1, 3, 4], 'bootstrap': [True, False]} \n",
            "\n",
            "Best Parameters:  {'n_estimators': 50, 'min_samples_split': 6, 'min_samples_leaf': 1, 'max_features': 'auto', 'max_depth': 110, 'bootstrap': False}  \n",
            "\n"
          ]
        }
      ]
    },
    {
      "cell_type": "code",
      "source": [
        "forest = RandomForestClassifier(n_estimators=20, criterion='gini', max_depth=100, min_samples_split=6, min_samples_leaf=1, min_weight_fraction_leaf=0.0, max_features='sqrt', max_leaf_nodes=None, min_impurity_decrease=0.0, bootstrap=True, oob_score=False, n_jobs=None, random_state=None, verbose=0, warm_start=False, class_weight=None, ccp_alpha=0.0, max_samples=None)\n",
        "forest.fit(X_train,y_train)"
      ],
      "metadata": {
        "colab": {
          "base_uri": "https://localhost:8080/"
        },
        "id": "dhS2VHH_gwrN",
        "outputId": "ef9bc2dc-f875-4a4c-cdbb-63e947c8014c"
      },
      "execution_count": 87,
      "outputs": [
        {
          "output_type": "execute_result",
          "data": {
            "text/plain": [
              "RandomForestClassifier(max_depth=100, max_features='sqrt', min_samples_split=6,\n",
              "                       n_estimators=20)"
            ]
          },
          "metadata": {},
          "execution_count": 87
        }
      ]
    },
    {
      "cell_type": "code",
      "source": [
        "y_pred6 = forest.predict(X_test)"
      ],
      "metadata": {
        "id": "8TrbeHBrg_cM"
      },
      "execution_count": 88,
      "outputs": []
    },
    {
      "cell_type": "code",
      "source": [
        "acc6 = accuracy_score(y_test,y_pred6)\n",
        "acc6"
      ],
      "metadata": {
        "colab": {
          "base_uri": "https://localhost:8080/"
        },
        "id": "iFc5kz_siI0_",
        "outputId": "71599745-0223-464e-9b65-be000cc8e7fc"
      },
      "execution_count": 89,
      "outputs": [
        {
          "output_type": "execute_result",
          "data": {
            "text/plain": [
              "0.74"
            ]
          },
          "metadata": {},
          "execution_count": 89
        }
      ]
    },
    {
      "cell_type": "code",
      "source": [
        "confusion6 = confusion_matrix(y_test,y_pred6)\n",
        "confusion6"
      ],
      "metadata": {
        "colab": {
          "base_uri": "https://localhost:8080/"
        },
        "id": "oqATpzAwiQyi",
        "outputId": "10471307-1cb0-430b-d650-125702c6e5d6"
      },
      "execution_count": 90,
      "outputs": [
        {
          "output_type": "execute_result",
          "data": {
            "text/plain": [
              "array([[88,  9],\n",
              "       [43, 60]])"
            ]
          },
          "metadata": {},
          "execution_count": 90
        }
      ]
    },
    {
      "cell_type": "code",
      "source": [
        "import matplotlib.pyplot as plt\n",
        "import seaborn as sns\n",
        "%matplotlib inline\n",
        "\n",
        "plt.figure(figsize = (10,6))\n",
        "sns.heatmap(confusion6, annot=True, cmap=\"magma\", xticklabels=['Negative', 'Positive'], yticklabels=['Negative', 'Positive'])\n",
        "plt.xlabel('Predicted values')\n",
        "plt.ylabel('Actual values')"
      ],
      "metadata": {
        "colab": {
          "base_uri": "https://localhost:8080/",
          "height": 406
        },
        "id": "M2m4R26qig-T",
        "outputId": "f1e50ffb-acb2-4589-f3b7-21bb342e5037"
      },
      "execution_count": 91,
      "outputs": [
        {
          "output_type": "execute_result",
          "data": {
            "text/plain": [
              "Text(69.0, 0.5, 'Actual values')"
            ]
          },
          "metadata": {},
          "execution_count": 91
        },
        {
          "output_type": "display_data",
          "data": {
            "text/plain": [
              "<Figure size 720x432 with 2 Axes>"
            ],
            "image/png": "[encoded data removed]"
          },
          "metadata": {
            "needs_background": "light"
          }
        }
      ]
    },
    {
      "cell_type": "code",
      "source": [
        "print(\"Precision6:\",precision_score(y_test,y_pred6))\n",
        "print(\"Recall6:\",recall_score(y_test,y_pred6))\n",
        "print(\"F1 Score6:\",f1_score(y_test,y_pred6))"
      ],
      "metadata": {
        "colab": {
          "base_uri": "https://localhost:8080/"
        },
        "id": "OqRQVUn3io-K",
        "outputId": "80411766-5ee2-4a54-a485-b5c885ffa3d8"
      },
      "execution_count": 92,
      "outputs": [
        {
          "output_type": "stream",
          "name": "stdout",
          "text": [
            "Precision6: 0.8695652173913043\n",
            "Recall6: 0.5825242718446602\n",
            "F1 Score6: 0.6976744186046511\n"
          ]
        }
      ]
    },
    {
      "cell_type": "code",
      "source": [
        "pred_prob = tree.predict_proba(X_test)\n",
        "fpr6,tpr6,thresh6 = roc_curve(y_test,pred_prob[:,1],pos_label = 1)\n",
        "auc_score6 = roc_auc_score(y_test,pred_prob[:,1])\n",
        "print(auc_score6)"
      ],
      "metadata": {
        "colab": {
          "base_uri": "https://localhost:8080/"
        },
        "id": "S5eXA3PDi3i9",
        "outputId": "c4a3311d-a846-40b4-ad51-46fb6c0faf6d"
      },
      "execution_count": 93,
      "outputs": [
        {
          "output_type": "stream",
          "name": "stdout",
          "text": [
            "0.7229006105494945\n"
          ]
        }
      ]
    },
    {
      "cell_type": "code",
      "source": [
        "plt.plot(fpr6,tpr6,color = \"orange\",linestyle = \"--\",label = \"RF\")\n",
        "plt.xlabel(\"FPR\")\n",
        "plt.ylabel(\"TPR\")\n",
        "plt.title(\"ROC-AUC CURVE FOR RANDOM FOREST\")\n",
        "plt.legend()\n",
        "plt.show()"
      ],
      "metadata": {
        "colab": {
          "base_uri": "https://localhost:8080/",
          "height": 295
        },
        "id": "hhSFZ-mGjAzl",
        "outputId": "ca39a7cb-00a9-4054-c799-4f9907bbf497"
      },
      "execution_count": 94,
      "outputs": [
        {
          "output_type": "display_data",
          "data": {
            "text/plain": [
              "<Figure size 432x288 with 1 Axes>"
            ],
            "image/png": "[encoded data removed]"
          },
          "metadata": {
            "needs_background": "light"
          }
        }
      ]
    },
    {
      "cell_type": "code",
      "source": [
        "logloss6 = log_loss(y_test,y_pred6)\n",
        "logloss6"
      ],
      "metadata": {
        "colab": {
          "base_uri": "https://localhost:8080/"
        },
        "id": "2sESFGFhjJBp",
        "outputId": "36a3f2e6-fe64-4d58-aa17-2cb1b43e2759"
      },
      "execution_count": 95,
      "outputs": [
        {
          "output_type": "execute_result",
          "data": {
            "text/plain": [
              "8.980117844561137"
            ]
          },
          "metadata": {},
          "execution_count": 95
        }
      ]
    },
    {
      "cell_type": "markdown",
      "source": [
        "SUMMARISING THE RESULTS"
      ],
      "metadata": {
        "id": "32-dUbo6jJmW"
      }
    },
    {
      "cell_type": "code",
      "source": [
        "plt.figure(figsize = (12,8))\n",
        "plt.plot(fpr1,tpr1,color = \"red\",linestyle = \"--\",label = \"KNN\")\n",
        "plt.plot(fpr2,tpr2,color = \"green\",linestyle = \"--\",label = \"NB\")\n",
        "plt.plot(fpr3,tpr3,color = \"blue\",linestyle = \"--\",label = \"LR\")\n",
        "plt.plot(fpr4,tpr4,color = \"orange\",linestyle = \"--\",label = \"SVC\")\n",
        "plt.plot(fpr5,tpr5,color = \"purple\",linestyle = \"--\",label = \"DT\")\n",
        "plt.plot(fpr6,tpr6,color = \"yellow\",linestyle = \"--\",label = \"RF\")\n",
        "plt.xlabel(\"FPR\")\n",
        "plt.ylabel(\"TPR\")\n",
        "plt.title(\"ROC-AUC CURVE FOR DIFFERENT MODELS\")\n",
        "plt.legend(loc=0)\n",
        "plt.show()"
      ],
      "metadata": {
        "colab": {
          "base_uri": "https://localhost:8080/",
          "height": 513
        },
        "id": "22SoEQ7_jXP8",
        "outputId": "009f246e-dd13-436c-ced3-29aac10caec2"
      },
      "execution_count": 96,
      "outputs": [
        {
          "output_type": "display_data",
          "data": {
            "text/plain": [
              "<Figure size 864x576 with 1 Axes>"
            ],
            "image/png": "[encoded data removed]"
          },
          "metadata": {
            "needs_background": "light"
          }
        }
      ]
    },
    {
      "cell_type": "markdown",
      "source": [
        "**OBSERVATION:**\n",
        "\n",
        "Naive Bayes has the highest ROC-AUC value when compared to other models."
      ],
      "metadata": {
        "id": "f4iEuUVPlfc8"
      }
    },
    {
      "cell_type": "code",
      "source": [
        "plt.figure(figsize = (8,5))\n",
        "accuracy = [acc1,acc2,acc3,acc4,acc5,acc6]\n",
        "models = [\"KNN\",\"NB\",\"LR\",\"SVC\",\"DT\",\"RF\"]\n",
        "color = [\"red\",\"green\",\"blue\",\"orange\",\"purple\",\"yellow\"]\n",
        "plt.bar(models,accuracy,color = color)\n",
        "plt.xlabel(\"MODELS\")\n",
        "plt.ylabel(\"Accuracy\")\n",
        "plt.title(\"COMPARING ACCURACIES\")\n",
        "plt.show"
      ],
      "metadata": {
        "colab": {
          "base_uri": "https://localhost:8080/",
          "height": 368
        },
        "id": "tiaBc1JTkuQ6",
        "outputId": "43e3782e-769a-49be-bc80-e6d67659d1fc"
      },
      "execution_count": 97,
      "outputs": [
        {
          "output_type": "execute_result",
          "data": {
            "text/plain": [
              "<function matplotlib.pyplot.show>"
            ]
          },
          "metadata": {},
          "execution_count": 97
        },
        {
          "output_type": "display_data",
          "data": {
            "text/plain": [
              "<Figure size 576x360 with 1 Axes>"
            ],
            "image/png": "[encoded data removed]"
          },
          "metadata": {
            "needs_background": "light"
          }
        }
      ]
    },
    {
      "cell_type": "markdown",
      "source": [
        "**OBSERVATION:**\n",
        "\n",
        "Naive Bayes has the highest accuracy score compared to other models"
      ],
      "metadata": {
        "id": "uRW__xYgoZnv"
      }
    },
    {
      "cell_type": "code",
      "source": [
        "plt.figure(figsize = (8,5))\n",
        "accuracy = [logloss1,logloss2,logloss3,logloss4,logloss5,logloss6]\n",
        "models = [\"KNN\",\"NB\",\"LR\",\"SVC\",\"DT\",\"RF\"]\n",
        "color = [\"red\",\"green\",\"blue\",\"orange\",\"purple\",\"yellow\"]\n",
        "plt.bar(models,accuracy,color = color)\n",
        "plt.xlabel(\"MODELS\")\n",
        "plt.ylabel(\"logloss\")\n",
        "plt.title(\"COMPARING LOGLOSS\")\n",
        "plt.show"
      ],
      "metadata": {
        "colab": {
          "base_uri": "https://localhost:8080/",
          "height": 368
        },
        "id": "gfqRfGbxOFiS",
        "outputId": "3d02ed23-0615-45db-fd98-b542d6b8aa8e"
      },
      "execution_count": 105,
      "outputs": [
        {
          "output_type": "execute_result",
          "data": {
            "text/plain": [
              "<function matplotlib.pyplot.show>"
            ]
          },
          "metadata": {},
          "execution_count": 105
        },
        {
          "output_type": "display_data",
          "data": {
            "text/plain": [
              "<Figure size 576x360 with 1 Axes>"
            ],
            "image/png": "[encoded data removed]"
          },
          "metadata": {
            "needs_background": "light"
          }
        }
      ]
    },
    {
      "cell_type": "markdown",
      "source": [
        "OBSERVATION:\n",
        "\n",
        "Logloss is minimum for Naive Bayes algorithm compared to other algorithms. "
      ],
      "metadata": {
        "id": "9f-9ic7OOcht"
      }
    },
    {
      "cell_type": "markdown",
      "source": [
        "***FINAL CONCLUSION:***\n",
        "\n",
        "Naive Bayes is the best algorithm when compared to other models for restaurant review sentiment analysis.It has highest accuracy and lowest logloss compared to other models"
      ],
      "metadata": {
        "id": "m8RqN_Icp1XS"
      }
    },
    {
      "cell_type": "markdown",
      "source": [
        "**PREDICTION USING NAIVE BAYES**"
      ],
      "metadata": {
        "id": "FzoQyqxJqL-E"
      }
    },
    {
      "cell_type": "code",
      "source": [
        "def predict_sentiment(sample_review):\n",
        "  sample_review = re.sub(pattern='[^a-zA-Z]',repl=' ', string = sample_review)\n",
        "  sample_review = sample_review.lower()\n",
        "  sample_review_words = sample_review.split()\n",
        "  sample_review_words = [word for word in sample_review_words if not word in set(stopwords.words('english'))]\n",
        "  ps = PorterStemmer()\n",
        "  final_review = [ps.stem(word) for word in sample_review_words]\n",
        "  final_review = ' '.join(final_review)\n",
        "\n",
        "  temp = cv.transform([final_review]).toarray()\n",
        "  return naive.predict(temp)"
      ],
      "metadata": {
        "id": "748ut19lqLLQ"
      },
      "execution_count": 98,
      "outputs": []
    },
    {
      "cell_type": "code",
      "source": [
        "# Predicting values\n",
        "sample_review = 'The food is really good here.'\n",
        "\n",
        "if predict_sentiment(sample_review):\n",
        "  print('This is a POSITIVE review.')\n",
        "else:\n",
        "  print('This is a NEGATIVE review!')"
      ],
      "metadata": {
        "colab": {
          "base_uri": "https://localhost:8080/"
        },
        "id": "SVvnTOJSqhn1",
        "outputId": "faca3c33-ae30-4c5a-f0b6-ccdfd173e30c"
      },
      "execution_count": 99,
      "outputs": [
        {
          "output_type": "stream",
          "name": "stdout",
          "text": [
            "This is a POSITIVE review.\n"
          ]
        }
      ]
    },
    {
      "cell_type": "code",
      "source": [
        "# Predicting values\n",
        "sample_review = 'Food was pretty bad and the service was very slow.'\n",
        "\n",
        "if predict_sentiment(sample_review):\n",
        "  print('This is a POSITIVE review.')\n",
        "else:\n",
        "  print('This is a NEGATIVE review!')"
      ],
      "metadata": {
        "colab": {
          "base_uri": "https://localhost:8080/"
        },
        "id": "zvUe32FRql5n",
        "outputId": "f5e1e52c-7211-423c-9e35-56ae960d6694"
      },
      "execution_count": 100,
      "outputs": [
        {
          "output_type": "stream",
          "name": "stdout",
          "text": [
            "This is a NEGATIVE review!\n"
          ]
        }
      ]
    },
    {
      "cell_type": "code",
      "source": [
        "# Predicting values\n",
        "sample_review = 'The food was absolutely wonderful, from preparation to presentation, very pleasing.'\n",
        "\n",
        "if predict_sentiment(sample_review):\n",
        "  print('This is a POSITIVE review.')\n",
        "else:\n",
        "  print('This is a NEGATIVE review!')"
      ],
      "metadata": {
        "colab": {
          "base_uri": "https://localhost:8080/"
        },
        "id": "ffDOmRb-qoAa",
        "outputId": "b6830edc-04f7-4967-faf9-ee4aad63c2db"
      },
      "execution_count": 101,
      "outputs": [
        {
          "output_type": "stream",
          "name": "stdout",
          "text": [
            "This is a POSITIVE review.\n"
          ]
        }
      ]
    },
    {
      "cell_type": "code",
      "source": [
        "sample_review = 'The food was absolutely awful, from preparation to presentation , very bad.'\n",
        "\n",
        "if predict_sentiment(sample_review):\n",
        "  print('This is a POSITIVE review.')\n",
        "else:\n",
        "  print('This is a NEGATIVE review!')"
      ],
      "metadata": {
        "colab": {
          "base_uri": "https://localhost:8080/"
        },
        "id": "Ns3-ZUZ7q_TY",
        "outputId": "dd9f6c32-9893-4021-ba42-7f9427ab342f"
      },
      "execution_count": 102,
      "outputs": [
        {
          "output_type": "stream",
          "name": "stdout",
          "text": [
            "This is a NEGATIVE review!\n"
          ]
        }
      ]
    }
  ]
}